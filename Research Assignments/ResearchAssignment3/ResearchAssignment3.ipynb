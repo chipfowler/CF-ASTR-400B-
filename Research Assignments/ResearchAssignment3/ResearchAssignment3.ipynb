{
 "cells": [
  {
   "cell_type": "code",
   "execution_count": null,
   "id": "c3b9398b-17fd-4f61-ae31-7ad17bae12b8",
   "metadata": {},
   "outputs": [],
   "source": [
    "'''\n",
    "\n",
    "RESEARCH TOPIC: My Project is designed to determine the shape of the MW-M31 merger halo remnant. \n",
    "I expect the remnant to be oblate (x = y > z). In order to do this, I need to compare al; 3 axial\n",
    "lengths of the halo remnant. \n",
    "\n",
    "I need to create 2 plots of the halo: x vs. y and x vs. z, and use the package photutils \n",
    "to overplot isodensity contours onto each to get the axial lengths in x, y, and z. The package \n",
    "will tell me the axial lengths of each contour. These will be the values used for comparison. \n",
    "I need to make the graphs into images to use photutils. \n",
    "\n",
    "PLANNED STEPS:\n",
    "\n",
    "1. import parackges (numpy, photutils, matplotlib,etc..) and Read from Readfile()\n",
    "2. read in the high res snapshot 630 files for the MW and M31 using Read().\n",
    "Read() will return all the arrays I need (x,y,z)\n",
    "3. use an index to sort particles by type. I only need the halo particles for this \n",
    "project (type 1). \n",
    "4. combine the now halo particle only position arrays so I can plot the combined \n",
    "MW-M31 halo. (use np.concatenate()?)\n",
    "5. plot x vs. y \n",
    "6. plot x vs. z\n",
    "7. convert plots to histograms/images. Photutils will only overplot on images.\n",
    "8. use Photutils to overplot the isodensity contours to get the axial lengths \n",
    "in x and y from first graph, and z froms second. \n",
    "9. compare. if x = y > z, then remnant is, indeed, oblate. if x = y < z, it is prolate. \n",
    "\n",
    "'''"
   ]
  },
  {
   "cell_type": "code",
   "execution_count": 11,
   "id": "53027230-6652-45e2-9e3e-fe2e7ce29083",
   "metadata": {},
   "outputs": [],
   "source": [
    "#import packages and read from readfile script. \n",
    "from ReadFile import Read\n",
    "import numpy as np\n",
    "import matplotlib.pyplot as plt \n",
    "import photutils "
   ]
  },
  {
   "cell_type": "code",
   "execution_count": 13,
   "id": "bff855a3-5ca6-49f2-abc2-eae7d165031b",
   "metadata": {},
   "outputs": [],
   "source": [
    "def halodata():\n",
    "    '''\n",
    "    name subject to change. halodata() is a function that will\n",
    "    read the data from snapshot files for the post-merger MW-M31 galaxy, \n",
    "    pick out the halo particles, and create 1 array that will be easy \n",
    "    to plot with. \n",
    "\n",
    "    PARAMETERS\n",
    "    ----------\n",
    "\n",
    "    OUTPUTS\n",
    "    -------\n",
    "        halo_particles: array\n",
    "            an array that contains the x,y, and z positions for the \n",
    "            combined MW-M31 halo. \n",
    "    '''"
   ]
  },
  {
   "cell_type": "code",
   "execution_count": null,
   "id": "a9096033-8008-4454-940e-ac5cd873e095",
   "metadata": {},
   "outputs": [],
   "source": [
    "#plot in this cell\n",
    "\n",
    "#plot x vs. z\n",
    "\n",
    "#plot x vs. z"
   ]
  }
 ],
 "metadata": {
  "kernelspec": {
   "display_name": "Python 3 (ipykernel)",
   "language": "python",
   "name": "python3"
  },
  "language_info": {
   "codemirror_mode": {
    "name": "ipython",
    "version": 3
   },
   "file_extension": ".py",
   "mimetype": "text/x-python",
   "name": "python",
   "nbconvert_exporter": "python",
   "pygments_lexer": "ipython3",
   "version": "3.12.4"
  }
 },
 "nbformat": 4,
 "nbformat_minor": 5
}
