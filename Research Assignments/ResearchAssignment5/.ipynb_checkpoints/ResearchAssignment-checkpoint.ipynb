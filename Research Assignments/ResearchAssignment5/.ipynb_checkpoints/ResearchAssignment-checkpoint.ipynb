{
 "cells": [
  {
   "cell_type": "code",
   "execution_count": 1,
   "id": "c3b9398b-17fd-4f61-ae31-7ad17bae12b8",
   "metadata": {},
   "outputs": [
    {
     "data": {
      "text/plain": [
       "'\\n\\nRESEARCH TOPIC: My Project is designed to determine the shape of the MW-M31 merger halo remnant. \\nI expect the remnant to be oblate (x = y > z). In order to do this, I need to compare all 3 axial\\nlengths of the halo remnant. \\n\\nI need to create 2 plots of the halo: x vs. y and x vs. z, and use the package photutils \\nto overplot isodensity contours onto each to get the axial lengths in x, y, and z. The package \\nwill tell me the axial lengths of each contour. These will be the values used for comparison. \\nI need to make the graphs into images to use photutils. \\n\\nPLANNED STEPS:\\n\\n1. import parackges (numpy, photutils, matplotlib,etc..) and CenterOfMass2\\n2. use an index to sort particles by type. I only need the halo particles for this \\nproject (type 1). \\n3. combine the halo particle only position arrays so I can plot the combined \\nMW-M31 halo. (use np.concatenate()?)\\n4. find center of mass using modified CenterOfMass2. This will determine the\\nr needed for Hernquist profile \\n5. determine new combined halo mass from GalaxyMass code.\\n6. fit the Hernquist profile. This will determine the scale length (h_a). \\n7. plot x vs. y \\n8. plot x vs. z\\n9. convert plots to histograms/images. Photutils will only overplot on images.\\n10. use Photutils to overplot the isodensity contours to get the axial lengths \\nin x and y from first graph, and z froms second. Use h_a to plot the countours for accuracy. \\n11. compare. if x = y > z, then remnant is, indeed, oblate. if x = y < z, it is prolate. \\n\\n(OPTIONAL)\\n12. If i have time, I might overplot some contours using 1/2*h_a, or 2*r_a to compare. \\n\\n\\n'"
      ]
     },
     "execution_count": 1,
     "metadata": {},
     "output_type": "execute_result"
    }
   ],
   "source": [
    "'''\n",
    "\n",
    "RESEARCH TOPIC: My Project is designed to determine the shape of the MW-M31 merger halo remnant. \n",
    "I expect the remnant to be oblate (x = y > z). In order to do this, I need to compare all 3 axial\n",
    "lengths of the halo remnant. \n",
    "\n",
    "I need to create 2 plots of the halo: x vs. y and x vs. z, and use the package photutils \n",
    "to overplot isodensity contours onto each to get the axial lengths in x, y, and z. The package \n",
    "will tell me the axial lengths of each contour. These will be the values used for comparison. \n",
    "I need to make the graphs into images to use photutils. \n",
    "\n",
    "PLANNED STEPS:\n",
    "\n",
    "1. import parackges (numpy, photutils, matplotlib,etc..) and CenterOfMass2\n",
    "2. use an index to sort particles by type. I only need the halo particles for this \n",
    "project (type 1). \n",
    "3. combine the halo particle only position arrays so I can plot the combined \n",
    "MW-M31 halo. (use np.concatenate()?)\n",
    "4. find center of mass using modified CenterOfMass2. This will determine the\n",
    "r needed for Hernquist profile \n",
    "5. determine new combined halo mass from GalaxyMass code.\n",
    "6. fit the Hernquist profile. This will determine the scale length (h_a). \n",
    "7. plot x vs. y \n",
    "8. plot x vs. z\n",
    "9. convert plots to histograms/images. Photutils will only overplot on images.\n",
    "10. use Photutils to overplot the isodensity contours to get the axial lengths \n",
    "in x and y from first graph, and z froms second. Use h_a to plot the countours for accuracy. \n",
    "11. compare. if x = y > z, then remnant is, indeed, oblate. if x = y < z, it is prolate. \n",
    "\n",
    "(OPTIONAL)\n",
    "12. If i have time, I might overplot some contours using 1/2*h_a, or 2*r_a to compare. \n",
    "\n",
    "\n",
    "'''"
   ]
  },
  {
   "cell_type": "code",
   "execution_count": 3,
   "id": "53027230-6652-45e2-9e3e-fe2e7ce29083",
   "metadata": {},
   "outputs": [],
   "source": [
    "#import packages and previously-made functions. \n",
    "from ReadFile import Read\n",
    "from COM import CenterOfMass\n",
    "from GalaxyMass import ComponentMass\n",
    "import numpy as np\n",
    "import matplotlib.pyplot as plt \n",
    "import photutils "
   ]
  },
  {
   "cell_type": "code",
   "execution_count": 4,
   "id": "8c012322-b07c-4f53-855a-250ed5cade2e",
   "metadata": {},
   "outputs": [],
   "source": [
    "#import high res files (do later bc the files take a while to download)\n",
    "#use low res files for now to test. "
   ]
  },
  {
   "cell_type": "code",
   "execution_count": 7,
   "id": "77c5e592-d0ba-483f-ab7f-9701be60725d",
   "metadata": {},
   "outputs": [],
   "source": [
    "'''\n",
    "halodata() is an entirely new function I am building to facilitate\n",
    "this project. \n",
    "'''\n",
    "def halodata(filename1,filename2):\n",
    "    '''\n",
    "    name subject to change. halodata() is a function that will\n",
    "    read the data from snapshot files for the post-merger MW-M31 galaxy, \n",
    "    pick out the halo particles, and create one array that will contain the \n",
    "    postions of all the particles, and one array that will contain all the masses\n",
    "    of the particles. \n",
    "\n",
    "    PARAMETERS\n",
    "    ----------\n",
    "        filename1: 'str'\n",
    "            the name of the snapshot file for the first galaxy\n",
    "        filename2: 'str'\n",
    "            the name of the snapshot file for the second galaxy\n",
    "\n",
    "    OUTPUTS\n",
    "    -------\n",
    "        x_array: 'np.ndarray'\n",
    "            an array that contains the x position of every particle in the \n",
    "            combined MW-M31 halo. \n",
    "        y_array: 'np.ndarray'\n",
    "            an array that contains the y position of every particle in the \n",
    "            combined MW-M31 halo. \n",
    "        z_array: 'np.ndarray'\n",
    "            an array that contains the z position of every particle in the \n",
    "            combined MW-M31 halo. \n",
    "        m_array: 'np.ndarray'\n",
    "            an array that contains the masses of every particle in the \n",
    "            combined MW-M31 halo. \n",
    "    '''\n",
    "\n",
    "    #read in both snapshot files\n",
    "    time1, total_part1, data1 = Read(filename1)\n",
    "    time2, total_part2, data2 = Read(filename2) \n",
    "\n",
    "    #create indexes to sort out the particles we want to examine by type\n",
    "    #(in this case, type = 1, for halo particles.)\n",
    "    index1 = np.where(data1['type'] == 1)\n",
    "    index2 = np.where(data2['type'] == 1)\n",
    "\n",
    "    #separate out the positions and mass for each halo particle for both files\n",
    "    x1 = data1['x'][index1]\n",
    "    y1 = data1['y'][index1]\n",
    "    z1 = data1['z'][index1]\n",
    "    m1 = data1['m'][index1]    \n",
    "\n",
    "    x2 = data2['x'][index2]\n",
    "    y2 = data2['y'][index2]\n",
    "    z2 = data2['z'][index2]\n",
    "    m2 = data2['m'][index2]\n",
    "\n",
    "    #combine arrays using np.concatenate()\n",
    "    x_array = np.concatenate((x1,x2))\n",
    "    y_array = np.concatenate((y1,y2))\n",
    "    z_array = np.concatenate((z1,z2))\n",
    "    m_array = np.concatenate((m1,m2))\n",
    "    \n",
    "    \n",
    "    return x_array, y_array, z_array, m_array"
   ]
  },
  {
   "cell_type": "code",
   "execution_count": 9,
   "id": "7b0da874-d997-4bfc-8826-158910240ba2",
   "metadata": {},
   "outputs": [
    {
     "name": "stdout",
     "output_type": "stream",
     "text": [
      "[0.00768352 0.00768352 0.00768352 ... 0.0078997  0.0078997  0.0078997 ]\n",
      "389.5806499999998\n"
     ]
    }
   ],
   "source": [
    "'''\n",
    "find the total mass of the halo by summing over all of the values in m_array. \n",
    "call halodata() with the lowres files to test code for now.\n",
    "halo_mass will be used later to make the Hernquist Mass Profile. \n",
    "'''\n",
    "x,y,z,m = halodata(\"LOWRESM31_630.txt\", \"LOWRESMW_630.txt\" )\n",
    "print(m) #test\n",
    "halo_mass = np.sum(m) #mass will be in 10**10 M_Sun. May need to change later\n",
    "print(halo_mass) #test"
   ]
  },
  {
   "cell_type": "code",
   "execution_count": 19,
   "id": "0b504388-2968-4ec0-8d06-478c5e1a1ae7",
   "metadata": {},
   "outputs": [
    {
     "data": {
      "text/plain": [
       "123.61629257605391"
      ]
     },
     "execution_count": 19,
     "metadata": {},
     "output_type": "execute_result"
    }
   ],
   "source": [
    "np.sum(x*m)/np.sum(m)"
   ]
  },
  {
   "cell_type": "code",
   "execution_count": 21,
   "id": "f1658511-ee7b-4c7e-9c41-5208850f2145",
   "metadata": {},
   "outputs": [
    {
     "name": "stdout",
     "output_type": "stream",
     "text": [
      "[122.69  73.65  90.79] kpc\n"
     ]
    }
   ],
   "source": [
    "'''\n",
    "Need to find COM of merged galaxies to figure out r for the Hernquist mass code \n",
    "'''\n",
    "\n",
    "#make an instance of the COM class\n",
    "COM = CenterOfMass()\n",
    "dm_com = COM.COM_P(1,4,x,y,z,m)\n",
    "print(dm_com)\n"
   ]
  },
  {
   "cell_type": "code",
   "execution_count": 13,
   "id": "92750a53-3401-4f7e-9b00-eae142c08373",
   "metadata": {},
   "outputs": [],
   "source": [
    "#import from HW 5. Hernquist Mass Profile code. \n",
    "#Find the scale radius for the combined halo (guess and check for values of h_a)\n",
    "#This will need the combined halo mass as well. \n",
    "def HernquistMass(r,h_a, m_halo):\n",
    "    \"\"\" Function that defines the Hernquist 1990 mass profile \n",
    "    \n",
    "    PARAMETERS\n",
    "    ----------\n",
    "    r -- (astropy quantity) Galactocentric distance in kpc \n",
    "    h_a -- (astropy quantity) scale radius of the Hernquist profile in kpc\n",
    "    m_halo -- (float) total halo mass in Msun\n",
    "        \n",
    "    RETURNS\n",
    "    -------\n",
    "    M_hernquist -- (array) total mass within the input radius r in Msun\n",
    "    \"\"\"\n",
    "    #M = m_halo*r**2/(h_a + r)**2\n",
    "    \n",
    "    a = m_halo #constant\n",
    "\n",
    "    b = r**2/(h_a + r)**2\n",
    "    \n",
    "    M_hernquist = a * b # Hernquist Profile\n",
    "    \n",
    "    return M_hernquist "
   ]
  },
  {
   "cell_type": "code",
   "execution_count": null,
   "id": "675cfd73-8e93-42f5-af85-97e929724802",
   "metadata": {},
   "outputs": [],
   "source": [
    "#make array of radii (in kpc) to give to Hernquist Mass\n",
    "r_bins = np.linspace(0,200,5) #test these bins for r with HernquistMass first and refine \n",
    "\n",
    "#plot Hernquist profile below. \n",
    "\n",
    "#call HernquistMass. Will need to guess and check values of h_a. \n",
    "HernquistMass(r_bins, 60, total_mass)"
   ]
  },
  {
   "cell_type": "code",
   "execution_count": 20,
   "id": "a9096033-8008-4454-940e-ac5cd873e095",
   "metadata": {},
   "outputs": [],
   "source": [
    "#plot projections in this cell\n",
    "\n",
    "#call photutils and give it the scale radius determined from HernquistMass\n",
    "\n",
    "#plot x vs. z\n",
    "\n",
    "#plot x vs. z"
   ]
  }
 ],
 "metadata": {
  "kernelspec": {
   "display_name": "Python 3 (ipykernel)",
   "language": "python",
   "name": "python3"
  },
  "language_info": {
   "codemirror_mode": {
    "name": "ipython",
    "version": 3
   },
   "file_extension": ".py",
   "mimetype": "text/x-python",
   "name": "python",
   "nbconvert_exporter": "python",
   "pygments_lexer": "ipython3",
   "version": "3.12.4"
  }
 },
 "nbformat": 4,
 "nbformat_minor": 5
}
