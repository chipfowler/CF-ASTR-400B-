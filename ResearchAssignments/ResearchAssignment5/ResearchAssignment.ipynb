{
 "cells": [
  {
   "cell_type": "code",
   "execution_count": 1,
   "id": "c3b9398b-17fd-4f61-ae31-7ad17bae12b8",
   "metadata": {},
   "outputs": [
    {
     "data": {
      "text/plain": [
       "'\\n\\nRESEARCH TOPIC: My Project is designed to determine the shape of the MW-M31 merger halo remnant. \\nI expect the remnant to be oblate (x = y > z). In order to do this, I need to compare all 3 axial\\nlengths of the halo remnant. \\n\\nI need to create 2 plots of the halo: x vs. y and x vs. z, and use the package photutils \\nto overplot isodensity contours onto each to get the axial lengths in x, y, and z. The package \\nwill tell me the axial lengths of each contour. These will be the values used for comparison. \\nI need to make the graphs into images to use photutils. \\n\\nPLANNED STEPS:\\n\\n1. import parackges (numpy, photutils, matplotlib,etc..) and CenterOfMass2\\n2. use an index to sort particles by type. I only need the halo particles for this \\nproject (type 1). \\n3. combine the halo particle only position arrays so I can plot the combined \\nMW-M31 halo. (use np.concatenate()?)\\n4. find center of mass using modified CenterOfMass2. This will determine the\\nr needed for Hernquist profile \\n5. determine new combined halo mass from GalaxyMass code.\\n6. fit the Hernquist profile. This will determine the scale length (h_a). \\n7. plot x vs. y \\n8. plot x vs. z\\n9. convert plots to histograms/images. Photutils will only overplot on images.\\n10. use Photutils to overplot the isodensity contours to get the axial lengths \\nin x and y from first graph, and z froms second. Use h_a to plot the countours for accuracy. \\n11. compare. if x = y > z, then remnant is, indeed, oblate. if x = y < z, it is prolate. \\n\\n(OPTIONAL)\\n12. If i have time, I might overplot some contours using 1/2*h_a, or 2*r_a to compare. \\n\\n\\n'"
      ]
     },
     "execution_count": 1,
     "metadata": {},
     "output_type": "execute_result"
    }
   ],
   "source": [
    "'''\n",
    "\n",
    "RESEARCH TOPIC: My Project is designed to determine the shape of the MW-M31 merger halo remnant. \n",
    "I expect the remnant to be oblate (x = y > z). In order to do this, I need to compare all 3 axial\n",
    "lengths of the halo remnant. \n",
    "\n",
    "I need to create 2 plots of the halo: x vs. y and x vs. z, and use the package photutils \n",
    "to overplot isodensity contours onto each to get the axial lengths in x, y, and z. The package \n",
    "will tell me the axial lengths of each contour. These will be the values used for comparison. \n",
    "I need to make the graphs into images to use photutils. \n",
    "\n",
    "PLANNED STEPS:\n",
    "\n",
    "1. import parackges (numpy, photutils, matplotlib,etc..) and CenterOfMass2\n",
    "2. use an index to sort particles by type. I only need the halo particles for this \n",
    "project (type 1). \n",
    "3. combine the halo particle only position arrays so I can plot the combined \n",
    "MW-M31 halo. (use np.concatenate()?)\n",
    "4. find center of mass using modified CenterOfMass2. This will determine the\n",
    "r needed for Hernquist profile \n",
    "5. determine new combined halo mass from GalaxyMass code.\n",
    "6. fit the Hernquist profile. This will determine the scale length (h_a). \n",
    "7. plot x vs. y \n",
    "8. plot x vs. z\n",
    "9. convert plots to histograms/images. Photutils will only overplot on images.\n",
    "10. use Photutils to overplot the isodensity contours to get the axial lengths \n",
    "in x and y from first graph, and z froms second. Use h_a to plot the countours for accuracy. \n",
    "11. compare. if x = y > z, then remnant is, indeed, oblate. if x = y < z, it is prolate. \n",
    "\n",
    "(OPTIONAL)\n",
    "12. If i have time, I might overplot some contours using 1/2*h_a, or 2*r_a to compare. \n",
    "\n",
    "\n",
    "'''"
   ]
  },
  {
   "cell_type": "code",
   "execution_count": 3,
   "id": "53027230-6652-45e2-9e3e-fe2e7ce29083",
   "metadata": {},
   "outputs": [],
   "source": [
    "#import packages and edited, previously-made functions.\n",
    "from RSCenterOfMass import CenterOfMass\n",
    "from MassProfile import MassProfile\n",
    "\n",
    "import numpy as np\n",
    "import matplotlib.pyplot as plt \n",
    "import photutils "
   ]
  },
  {
   "cell_type": "code",
   "execution_count": 4,
   "id": "8c012322-b07c-4f53-855a-250ed5cade2e",
   "metadata": {},
   "outputs": [],
   "source": [
    "#import high res files (do later bc the files take a while to download)\n",
    "#use low res files for now to test. "
   ]
  },
  {
   "cell_type": "code",
   "execution_count": 21,
   "id": "77c5e592-d0ba-483f-ab7f-9701be60725d",
   "metadata": {},
   "outputs": [],
   "source": [
    "'''\n",
    "Halodata() is an entirely new function I am building to facilitate\n",
    "this project. \n",
    "'''\n",
    "def Halodata(filename1,filename2):\n",
    "    '''\n",
    "    Halodata() is a function that will read the data from snapshot files for the \n",
    "    post-merger MW-M31 galaxy, pick out the halo particles, and create \n",
    "    arrays for the x, y, and z positions, as well as an array for the masses.\n",
    "\n",
    "    PARAMETERS\n",
    "    ----------\n",
    "        filename1: 'str'\n",
    "            the name of the snapshot file for the first galaxy\n",
    "        filename2: 'str'\n",
    "            the name of the snapshot file for the second galaxy\n",
    "\n",
    "    OUTPUTS\n",
    "    -------\n",
    "        x_array: 'np.ndarray'\n",
    "            an array that contains the x position of every particle in the \n",
    "            combined halo. \n",
    "        y_array: 'np.ndarray'\n",
    "            an array that contains the y position of every particle in the \n",
    "            combined halo. \n",
    "        z_array: 'np.ndarray'\n",
    "            an array that contains the z position of every particle in the \n",
    "            combined halo. \n",
    "        m_array: 'np.ndarray'\n",
    "            an array that contains the masses of every particle in the \n",
    "            combined halo. \n",
    "    '''\n",
    "\n",
    "    #read in both snapshot files\n",
    "    time1, total_part1, data1 = Read(filename1)\n",
    "    time2, total_part2, data2 = Read(filename2) \n",
    "\n",
    "    #create indexes to sort out the particles we want to examine by type\n",
    "    #(in this case, type = 1, for halo particles.)\n",
    "    index1 = np.where(data1['type'] == 1)\n",
    "    index2 = np.where(data2['type'] == 1)\n",
    "\n",
    "    #separate out the positions and mass for each halo particle for both files\n",
    "    x1 = data1['x'][index1]\n",
    "    y1 = data1['y'][index1]\n",
    "    z1 = data1['z'][index1]\n",
    "    m1 = data1['m'][index1]    \n",
    "\n",
    "    x2 = data2['x'][index2]\n",
    "    y2 = data2['y'][index2]\n",
    "    z2 = data2['z'][index2]\n",
    "    m2 = data2['m'][index2]\n",
    "\n",
    "    #combine arrays using np.concatenate()\n",
    "    x_array = np.concatenate((x1,x2))\n",
    "    y_array = np.concatenate((y1,y2))\n",
    "    z_array = np.concatenate((z1,z2))\n",
    "    m_array = np.concatenate((m1,m2))\n",
    "    \n",
    "    #return the arrays for \n",
    "    return x_array, y_array, z_array, m_array"
   ]
  },
  {
   "cell_type": "code",
   "execution_count": 57,
   "id": "7b0da874-d997-4bfc-8826-158910240ba2",
   "metadata": {},
   "outputs": [
    {
     "name": "stdout",
     "output_type": "stream",
     "text": [
      "389.5806499999998\n"
     ]
    }
   ],
   "source": [
    "'''\n",
    "find the total mass of the halo by summing over all of the values in m_array. \n",
    "halo_mass will be used later to make the Hernquist Mass Profile. \n",
    "'''\n",
    "\n",
    "#calling Halodata() with files from appropriate M31 and MW snapshot file\n",
    "x,y,z,m = Halodata(\"LOWRESM31_630.txt\", \"LOWRESMW_630.txt\" )\n",
    "\n",
    "#print(m) #test\n",
    "\n",
    "#np.sum() totals the values of the array. halo_mass is a float. \n",
    "halo_mass = np.sum(m) #mass will be in 10**10 M_Sun. May need to change later. \n",
    "\n",
    "print(halo_mass) #test"
   ]
  },
  {
   "cell_type": "code",
   "execution_count": 59,
   "id": "0b504388-2968-4ec0-8d06-478c5e1a1ae7",
   "metadata": {},
   "outputs": [],
   "source": [
    "#np.sum(x*m)/np.sum(m) #comparison value for CenterOfMass to test accuracy"
   ]
  },
  {
   "cell_type": "code",
   "execution_count": 61,
   "id": "f1658511-ee7b-4c7e-9c41-5208850f2145",
   "metadata": {},
   "outputs": [
    {
     "name": "stdout",
     "output_type": "stream",
     "text": [
      "[122.69  73.65  90.79] kpc\n"
     ]
    }
   ],
   "source": [
    "'''\n",
    "Need to find COM of merged galaxies to make the mass profile \n",
    "\n",
    "I am using an altered version of the CenterOfMass, in a file called \"RSCenterOfMass\"\n",
    "(RS short for Research Assignment). This version of the function only includes the COM_P \n",
    "function, since I only need to find the positions. This class has been altered to\n",
    "read from arrays instead of a file, due to the outputs of Halodata() being arrays. \n",
    "'''\n",
    "\n",
    "#make an instance of the CenterOfMass class\n",
    "COM = CenterOfMass()\n",
    "\n",
    "#call COM_P, the function that finds the center of mass position from the \n",
    "#CenterOfMass Class, error tolerance and voldec have been altered for defaults \n",
    "Remnant_COM = COM.COM_P(1,4,x,y,z,m)\n",
    "\n",
    "print(Remnant_COM) #test\n"
   ]
  },
  {
   "cell_type": "code",
   "execution_count": 63,
   "id": "92750a53-3401-4f7e-9b00-eae142c08373",
   "metadata": {},
   "outputs": [],
   "source": [
    "#import from HW 5. Hernquist Mass Profile code. \n",
    "#Find the scale radius for the combined halo (guess and check for values of h_a) \n",
    "def HernquistMass(r,h_a, m_halo):\n",
    "    \"\"\" Function that defines the Hernquist 1990 mass profile \n",
    "    \n",
    "    PARAMETERS\n",
    "    ----------\n",
    "    r : 'float' \n",
    "        Galactocentric distance in u.kpc \n",
    "    h_a : 'float' \n",
    "        scale radius of the Hernquist profile in u.kpc\n",
    "    m_halo : 'float' \n",
    "        total halo mass in Msun\n",
    "        \n",
    "    RETURNS\n",
    "    -------\n",
    "    M_hernquist -- (array) total mass within the input radius r in Msun\n",
    "    \"\"\"\n",
    "    #M = m_halo*r**2/(h_a + r)**2\n",
    "    \n",
    "    a = m_halo #constant\n",
    "\n",
    "    b = r**2/(h_a + r)**2\n",
    "    \n",
    "    M_hernquist = a * b # Hernquist Profile\n",
    "    \n",
    "    return M_hernquist "
   ]
  },
  {
   "cell_type": "code",
   "execution_count": 67,
   "id": "675cfd73-8e93-42f5-af85-97e929724802",
   "metadata": {},
   "outputs": [
    {
     "ename": "ValueError",
     "evalue": "x and y must have same first dimension, but have shapes (5,) and (50000,)",
     "output_type": "error",
     "traceback": [
      "\u001b[0;31m---------------------------------------------------------------------------\u001b[0m",
      "\u001b[0;31mValueError\u001b[0m                                Traceback (most recent call last)",
      "Cell \u001b[0;32mIn[67], line 13\u001b[0m\n\u001b[1;32m     10\u001b[0m fig,ax \u001b[38;5;241m=\u001b[39m plt\u001b[38;5;241m.\u001b[39msubplots()\n\u001b[1;32m     12\u001b[0m \u001b[38;5;66;03m#plotting y axis in log scale\u001b[39;00m\n\u001b[0;32m---> 13\u001b[0m ax\u001b[38;5;241m.\u001b[39msemilogy(r_bins, m, color \u001b[38;5;241m=\u001b[39m \u001b[38;5;124m\"\u001b[39m\u001b[38;5;124mred\u001b[39m\u001b[38;5;124m\"\u001b[39m, linewidth \u001b[38;5;241m=\u001b[39m \u001b[38;5;124m\"\u001b[39m\u001b[38;5;124m3\u001b[39m\u001b[38;5;124m\"\u001b[39m,)\n\u001b[1;32m     14\u001b[0m ax\u001b[38;5;241m.\u001b[39msemilogy(r_bins, HQ_Profile, color \u001b[38;5;241m=\u001b[39m \u001b[38;5;124m\"\u001b[39m\u001b[38;5;124mblack\u001b[39m\u001b[38;5;124m\"\u001b[39m, label \u001b[38;5;241m=\u001b[39m \u001b[38;5;124m\"\u001b[39m\u001b[38;5;124mHernquist profile (a = 60 kpc)\u001b[39m\u001b[38;5;124m\"\u001b[39m, linewidth \u001b[38;5;241m=\u001b[39m \u001b[38;5;124m\"\u001b[39m\u001b[38;5;124m3\u001b[39m\u001b[38;5;124m\"\u001b[39m, linestyle \u001b[38;5;241m=\u001b[39m \u001b[38;5;124m\"\u001b[39m\u001b[38;5;124m--\u001b[39m\u001b[38;5;124m\"\u001b[39m)\n\u001b[1;32m     16\u001b[0m \u001b[38;5;66;03m#making axes labels and setting the legend to show\u001b[39;00m\n",
      "File \u001b[0;32m/opt/anaconda3/lib/python3.12/site-packages/matplotlib/axes/_axes.py:1959\u001b[0m, in \u001b[0;36mAxes.semilogy\u001b[0;34m(self, *args, **kwargs)\u001b[0m\n\u001b[1;32m   1955\u001b[0m d \u001b[38;5;241m=\u001b[39m {k: v \u001b[38;5;28;01mfor\u001b[39;00m k, v \u001b[38;5;129;01min\u001b[39;00m kwargs\u001b[38;5;241m.\u001b[39mitems()\n\u001b[1;32m   1956\u001b[0m      \u001b[38;5;28;01mif\u001b[39;00m k \u001b[38;5;129;01min\u001b[39;00m [\u001b[38;5;124m'\u001b[39m\u001b[38;5;124mbase\u001b[39m\u001b[38;5;124m'\u001b[39m, \u001b[38;5;124m'\u001b[39m\u001b[38;5;124msubs\u001b[39m\u001b[38;5;124m'\u001b[39m, \u001b[38;5;124m'\u001b[39m\u001b[38;5;124mnonpositive\u001b[39m\u001b[38;5;124m'\u001b[39m,\n\u001b[1;32m   1957\u001b[0m               \u001b[38;5;124m'\u001b[39m\u001b[38;5;124mbasey\u001b[39m\u001b[38;5;124m'\u001b[39m, \u001b[38;5;124m'\u001b[39m\u001b[38;5;124msubsy\u001b[39m\u001b[38;5;124m'\u001b[39m, \u001b[38;5;124m'\u001b[39m\u001b[38;5;124mnonposy\u001b[39m\u001b[38;5;124m'\u001b[39m]}\n\u001b[1;32m   1958\u001b[0m \u001b[38;5;28mself\u001b[39m\u001b[38;5;241m.\u001b[39mset_yscale(\u001b[38;5;124m'\u001b[39m\u001b[38;5;124mlog\u001b[39m\u001b[38;5;124m'\u001b[39m, \u001b[38;5;241m*\u001b[39m\u001b[38;5;241m*\u001b[39md)\n\u001b[0;32m-> 1959\u001b[0m \u001b[38;5;28;01mreturn\u001b[39;00m \u001b[38;5;28mself\u001b[39m\u001b[38;5;241m.\u001b[39mplot(\n\u001b[1;32m   1960\u001b[0m     \u001b[38;5;241m*\u001b[39margs, \u001b[38;5;241m*\u001b[39m\u001b[38;5;241m*\u001b[39m{k: v \u001b[38;5;28;01mfor\u001b[39;00m k, v \u001b[38;5;129;01min\u001b[39;00m kwargs\u001b[38;5;241m.\u001b[39mitems() \u001b[38;5;28;01mif\u001b[39;00m k \u001b[38;5;129;01mnot\u001b[39;00m \u001b[38;5;129;01min\u001b[39;00m d})\n",
      "File \u001b[0;32m/opt/anaconda3/lib/python3.12/site-packages/matplotlib/axes/_axes.py:1724\u001b[0m, in \u001b[0;36mAxes.plot\u001b[0;34m(self, scalex, scaley, data, *args, **kwargs)\u001b[0m\n\u001b[1;32m   1481\u001b[0m \u001b[38;5;250m\u001b[39m\u001b[38;5;124;03m\"\"\"\u001b[39;00m\n\u001b[1;32m   1482\u001b[0m \u001b[38;5;124;03mPlot y versus x as lines and/or markers.\u001b[39;00m\n\u001b[1;32m   1483\u001b[0m \n\u001b[0;32m   (...)\u001b[0m\n\u001b[1;32m   1721\u001b[0m \u001b[38;5;124;03m(``'green'``) or hex strings (``'#008000'``).\u001b[39;00m\n\u001b[1;32m   1722\u001b[0m \u001b[38;5;124;03m\"\"\"\u001b[39;00m\n\u001b[1;32m   1723\u001b[0m kwargs \u001b[38;5;241m=\u001b[39m cbook\u001b[38;5;241m.\u001b[39mnormalize_kwargs(kwargs, mlines\u001b[38;5;241m.\u001b[39mLine2D)\n\u001b[0;32m-> 1724\u001b[0m lines \u001b[38;5;241m=\u001b[39m [\u001b[38;5;241m*\u001b[39m\u001b[38;5;28mself\u001b[39m\u001b[38;5;241m.\u001b[39m_get_lines(\u001b[38;5;28mself\u001b[39m, \u001b[38;5;241m*\u001b[39margs, data\u001b[38;5;241m=\u001b[39mdata, \u001b[38;5;241m*\u001b[39m\u001b[38;5;241m*\u001b[39mkwargs)]\n\u001b[1;32m   1725\u001b[0m \u001b[38;5;28;01mfor\u001b[39;00m line \u001b[38;5;129;01min\u001b[39;00m lines:\n\u001b[1;32m   1726\u001b[0m     \u001b[38;5;28mself\u001b[39m\u001b[38;5;241m.\u001b[39madd_line(line)\n",
      "File \u001b[0;32m/opt/anaconda3/lib/python3.12/site-packages/matplotlib/axes/_base.py:303\u001b[0m, in \u001b[0;36m_process_plot_var_args.__call__\u001b[0;34m(self, axes, data, *args, **kwargs)\u001b[0m\n\u001b[1;32m    301\u001b[0m     this \u001b[38;5;241m+\u001b[39m\u001b[38;5;241m=\u001b[39m args[\u001b[38;5;241m0\u001b[39m],\n\u001b[1;32m    302\u001b[0m     args \u001b[38;5;241m=\u001b[39m args[\u001b[38;5;241m1\u001b[39m:]\n\u001b[0;32m--> 303\u001b[0m \u001b[38;5;28;01myield from\u001b[39;00m \u001b[38;5;28mself\u001b[39m\u001b[38;5;241m.\u001b[39m_plot_args(\n\u001b[1;32m    304\u001b[0m     axes, this, kwargs, ambiguous_fmt_datakey\u001b[38;5;241m=\u001b[39mambiguous_fmt_datakey)\n",
      "File \u001b[0;32m/opt/anaconda3/lib/python3.12/site-packages/matplotlib/axes/_base.py:499\u001b[0m, in \u001b[0;36m_process_plot_var_args._plot_args\u001b[0;34m(self, axes, tup, kwargs, return_kwargs, ambiguous_fmt_datakey)\u001b[0m\n\u001b[1;32m    496\u001b[0m     axes\u001b[38;5;241m.\u001b[39myaxis\u001b[38;5;241m.\u001b[39mupdate_units(y)\n\u001b[1;32m    498\u001b[0m \u001b[38;5;28;01mif\u001b[39;00m x\u001b[38;5;241m.\u001b[39mshape[\u001b[38;5;241m0\u001b[39m] \u001b[38;5;241m!=\u001b[39m y\u001b[38;5;241m.\u001b[39mshape[\u001b[38;5;241m0\u001b[39m]:\n\u001b[0;32m--> 499\u001b[0m     \u001b[38;5;28;01mraise\u001b[39;00m \u001b[38;5;167;01mValueError\u001b[39;00m(\u001b[38;5;124mf\u001b[39m\u001b[38;5;124m\"\u001b[39m\u001b[38;5;124mx and y must have same first dimension, but \u001b[39m\u001b[38;5;124m\"\u001b[39m\n\u001b[1;32m    500\u001b[0m                      \u001b[38;5;124mf\u001b[39m\u001b[38;5;124m\"\u001b[39m\u001b[38;5;124mhave shapes \u001b[39m\u001b[38;5;132;01m{\u001b[39;00mx\u001b[38;5;241m.\u001b[39mshape\u001b[38;5;132;01m}\u001b[39;00m\u001b[38;5;124m and \u001b[39m\u001b[38;5;132;01m{\u001b[39;00my\u001b[38;5;241m.\u001b[39mshape\u001b[38;5;132;01m}\u001b[39;00m\u001b[38;5;124m\"\u001b[39m)\n\u001b[1;32m    501\u001b[0m \u001b[38;5;28;01mif\u001b[39;00m x\u001b[38;5;241m.\u001b[39mndim \u001b[38;5;241m>\u001b[39m \u001b[38;5;241m2\u001b[39m \u001b[38;5;129;01mor\u001b[39;00m y\u001b[38;5;241m.\u001b[39mndim \u001b[38;5;241m>\u001b[39m \u001b[38;5;241m2\u001b[39m:\n\u001b[1;32m    502\u001b[0m     \u001b[38;5;28;01mraise\u001b[39;00m \u001b[38;5;167;01mValueError\u001b[39;00m(\u001b[38;5;124mf\u001b[39m\u001b[38;5;124m\"\u001b[39m\u001b[38;5;124mx and y can be no greater than 2D, but have \u001b[39m\u001b[38;5;124m\"\u001b[39m\n\u001b[1;32m    503\u001b[0m                      \u001b[38;5;124mf\u001b[39m\u001b[38;5;124m\"\u001b[39m\u001b[38;5;124mshapes \u001b[39m\u001b[38;5;132;01m{\u001b[39;00mx\u001b[38;5;241m.\u001b[39mshape\u001b[38;5;132;01m}\u001b[39;00m\u001b[38;5;124m and \u001b[39m\u001b[38;5;132;01m{\u001b[39;00my\u001b[38;5;241m.\u001b[39mshape\u001b[38;5;132;01m}\u001b[39;00m\u001b[38;5;124m\"\u001b[39m)\n",
      "\u001b[0;31mValueError\u001b[0m: x and y must have same first dimension, but have shapes (5,) and (50000,)"
     ]
    },
    {
     "data": {
      "image/png": "[encoded data removed]",
      "text/plain": [
       "<Figure size 640x480 with 1 Axes>"
      ]
     },
     "metadata": {},
     "output_type": "display_data"
    }
   ],
   "source": [
    "#make array of radii (in kpc) to give to Hernquist Mass\n",
    "r_bins = np.linspace(0,200,5) #test these bins for r with HernquistMass first and refine \n",
    "\n",
    "#call HernquistMass. Will need to guess and check values of h_a. \n",
    "HQ_Profile = HernquistMass(r_bins, 60, halo_mass)\n",
    "\n",
    "#plot Hernquist profile below. \n",
    "\n",
    "#creating the plot \n",
    "fig,ax = plt.subplots()\n",
    "\n",
    "#plotting y axis in log scale\n",
    "ax.semilogy(r_bins, m, color = \"red\", linewidth = \"3\",)\n",
    "ax.semilogy(r_bins, HQ_Profile, color = \"black\", label = \"Hernquist profile (a = 60 kpc)\", linewidth = \"3\", linestyle = \"--\")\n",
    "\n",
    "#making axes labels and setting the legend to show\n",
    "ax.set_title (\"Mass Profile of the MW-M31 Dark Matter Halo Remnant\")\n",
    "ax.set_ylabel(\"log(M) [Msun]\")\n",
    "ax.set_xlabel(\"radius [kpc]\")\n",
    "ax.legend()"
   ]
  },
  {
   "cell_type": "code",
   "execution_count": null,
   "id": "01f582bb-5a7c-4daa-97a5-016d02e42749",
   "metadata": {},
   "outputs": [],
   "source": [
    "'''\n",
    "note for tuesday 3/22:\n",
    "\n",
    "***look at lab 7 \n",
    "\n",
    "make 2D histogram of particles with scale radius circle overplotted to show its eccentricity (for now)\n",
    "'''"
   ]
  },
  {
   "cell_type": "code",
   "execution_count": 20,
   "id": "a9096033-8008-4454-940e-ac5cd873e095",
   "metadata": {},
   "outputs": [],
   "source": [
    "#plot projections in this cell\n",
    "\n",
    "#call photutils and give it the scale radius determined from HernquistMass\n",
    "\n",
    "#plot x vs. z\n",
    "\n",
    "#plot x vs. z"
   ]
  },
  {
   "cell_type": "code",
   "execution_count": null,
   "id": "b9282b8a-19d5-45d0-937a-d04801618e80",
   "metadata": {},
   "outputs": [],
   "source": []
  }
 ],
 "metadata": {
  "kernelspec": {
   "display_name": "Python 3 (ipykernel)",
   "language": "python",
   "name": "python3"
  },
  "language_info": {
   "codemirror_mode": {
    "name": "ipython",
    "version": 3
   },
   "file_extension": ".py",
   "mimetype": "text/x-python",
   "name": "python",
   "nbconvert_exporter": "python",
   "pygments_lexer": "ipython3",
   "version": "3.12.4"
  }
 },
 "nbformat": 4,
 "nbformat_minor": 5
}
