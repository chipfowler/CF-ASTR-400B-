{
 "cells": [
  {
   "cell_type": "code",
   "execution_count": 24,
   "id": "73f1b6db-24f9-442e-97ac-0eb50dd16e85",
   "metadata": {},
   "outputs": [],
   "source": [
    "from ReadFile import Read\n",
    "import numpy as np\n",
    "import astropy.units as u\n",
    "\n",
    "def ParticleInfo(filename, part_type, part_num):\n",
    "    \"\"\"\n",
    "    ParticleInfo is a function that returns the distance, velocity, \n",
    "    and mass of a particle of any given type from a file. \n",
    "\n",
    "    Inputs: filename is the name of the file we want to read data from\n",
    "            part_type is the type of particle we want to return the properties of \n",
    "            part_num is the number of the partcle we want to return the properties of\n",
    "\n",
    "    Outputs: Mag of distance (astropy units kpc)\n",
    "             Mag of velocity (astropy units km/s)\n",
    "             Mass (astropy units of M_sun)\n",
    "    \"\"\"\n",
    "\n",
    "    time,tot_particles,data = Read(filename) #calling Read(), a function we made previously to read the file\n",
    "    \n",
    "    index = np.where(data['type'] == part_type) #creating index to separate particle type specified by username\n",
    "\n",
    "    #splitting data into relevant lists of masses, positions (x,y,z) and velocities (vx,vy,vz) and providing appropriate units\n",
    "    #indexing the data so only the particles of the user-specified type are included in list\n",
    "\n",
    "    #mass in 10**(10) M_sun\n",
    "    m = data['m'][index]*u.M_sun*10**(10)\n",
    "\n",
    "    #cartesian coordinates, in kpc\n",
    "    x = data['x'][index]*u.kpc\n",
    "    y = data['y'][index]*u.kpc\n",
    "    z = data['z'][index]*u.kpc\n",
    "\n",
    "    #velocity components, in km/s\n",
    "    vx = data['vx'][index]*(u.km/u.s)\n",
    "    vy = data['vy'][index]*(u.km/u.s)\n",
    "    vz = data['vz'][index]*(u.km/u.s)\n",
    "\n",
    "    #calculate magnitude of density (dist = sqrt(x**2 + y**2 + z**2)\n",
    "    distance = np.sqrt(x[part_num-1]**2 + y[part_num-1]**2 + z[part_num-1]**2)\n",
    "    \n",
    "    #calculate magnitude of velocity (vel = vx**2 + vy**2 + vz**2)\n",
    "    velocity = np.sqrt(vx[part_num-1]**2 + vy[part_num-1]**2 + vz[part_num-1]**2)\n",
    "\n",
    "    distance = np.around(distance,3) #rounding distance to 3 sig figs\n",
    "    velocity = np.around(velocity,3) #rounding velocity to 3 sig figs\n",
    "    \n",
    "    mass = m[part_num-1] #getting the particle mass\n",
    "    \n",
    "    return distance, velocity, mass #returning the distance, velocity, and the mass of the user-given particle\n",
    "    \n",
    "distance, velocity, mass = ParticleInfo(\"MW_000.txt\",2,100) #calling function, giving it the file, the type of particle we want to calculate for (2 = disk in this case), and the number of the particle (100 in this case)"
   ]
  }
 ],
 "metadata": {
  "kernelspec": {
   "display_name": "Python 3 (ipykernel)",
   "language": "python",
   "name": "python3"
  },
  "language_info": {
   "codemirror_mode": {
    "name": "ipython",
    "version": 3
   },
   "file_extension": ".py",
   "mimetype": "text/x-python",
   "name": "python",
   "nbconvert_exporter": "python",
   "pygments_lexer": "ipython3",
   "version": "3.12.4"
  }
 },
 "nbformat": 4,
 "nbformat_minor": 5
}
