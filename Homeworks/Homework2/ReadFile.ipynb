{
 "cells": [
  {
   "cell_type": "code",
   "execution_count": 1,
   "id": "7ff9d521-cc81-4f80-8314-eb92afcd9f95",
   "metadata": {},
   "outputs": [],
   "source": [
    "import numpy as np\n",
    "import astropy.units as u\n",
    "\n",
    "def Read(filename): #Read() is a function that takes the name of a file as an input, reads the first 2 lines of a file (the time and total number of particles) and retuns  the particle type, mass, x,y,z, vx,vy,vz as a data arrays\n",
    "    file = open(filename,\"r\") #opening the file using read mode\n",
    "    \n",
    "    line1 = file.readline() #reading the first line of the file. This line contains the time.\n",
    "    label,value = line1.split() #splitting the line into a list. The line contains both the label and the values of the time.\n",
    "    time = float(value)*u.Myr #storing the time in terms of Myr \n",
    "\n",
    "    line2 = file.readline() #calling readline a second time reads the second line of the file. This is the number of particles\n",
    "    label,value = line2.split() #splitting line into a list. This line contains a label and the total number of particles.\n",
    "    tot_particles = float(value) #storing the particles\n",
    "\n",
    "    file.close() #close the file\n",
    "\n",
    "    data = np.genfromtxt(filename,dtype = None, names = True, skip_header = 3) #storing the remainder of the file.\n",
    "\n",
    "    return time,tot_particles, data #returns the time, total number of particles, and the rest of the data from the file. "
   ]
  },
  {
   "cell_type": "code",
   "execution_count": null,
   "id": "4c628527-1f3c-4df4-904e-2eb664bbf86a",
   "metadata": {},
   "outputs": [],
   "source": []
  }
 ],
 "metadata": {
  "kernelspec": {
   "display_name": "Python 3 (ipykernel)",
   "language": "python",
   "name": "python3"
  },
  "language_info": {
   "codemirror_mode": {
    "name": "ipython",
    "version": 3
   },
   "file_extension": ".py",
   "mimetype": "text/x-python",
   "name": "python",
   "nbconvert_exporter": "python",
   "pygments_lexer": "ipython3",
   "version": "3.12.4"
  }
 },
 "nbformat": 4,
 "nbformat_minor": 5
}
