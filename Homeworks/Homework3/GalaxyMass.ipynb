{
 "cells": [
  {
   "cell_type": "code",
   "execution_count": 195,
   "id": "1a5ef508-cbc2-47f3-944a-a0879ea01bd5",
   "metadata": {},
   "outputs": [],
   "source": [
    "from ReadFile import Read\n",
    "import numpy as np\n",
    "import astropy.units as u\n",
    "import pandas as pd\n",
    "\n",
    "def ComponentMass(filename, part_type):\n",
    "    \"\"\"\n",
    "    ComponentMass is a function that returns the total mass of a user-specified galaxy component (disk, bulge, etc.)\n",
    "    \n",
    "    Inputs: filename (string) is the name of the file we want to read data from\n",
    "            part_type (integer) is the type of galaxy component we want to return the mass of\n",
    "            \n",
    "    Outputs: M (astropy units Msun^12) the mass of the galaxy component\n",
    "    \"\"\"\n",
    "    time,tot_particles,data = Read(filename) #calling Read(), a function we made previously to read the file. the snapnumber, \n",
    "    #total number of particles, and the rest of the data array in the file are the outputs of Read().\n",
    "    \n",
    "    index = np.where(data['type'] == part_type) #creating index to separate the particles of the user-specified type out from the rest\n",
    "    \n",
    "    m = data['m'][index]*u.M_sun*10**(10) #getting the mass of each particle in the specified type, setting its units (10**12 Msun) \n",
    "    #and storing as an array. \n",
    "\n",
    "    m = m/(u.M_sun*10**(12))\n",
    "    \n",
    "    mtot = np.sum(m) #summing over all the masses in the mass array to get the total mass (mtot)\n",
    "\n",
    "    mtot_round = np.round(mtot,3) #rounding the total mass to 3 decimal places\n",
    "\n",
    "    return mtot_round #returning the rounded total mass\n"
   ]
  },
  {
   "cell_type": "code",
   "execution_count": 192,
   "id": "dde1948c-d38b-4283-9862-6c328cc093f3",
   "metadata": {},
   "outputs": [
    {
     "ename": "UnitConversionError",
     "evalue": "Can only apply 'add' function to quantities with compatible dimensions",
     "output_type": "error",
     "traceback": [
      "\u001b[0;31m---------------------------------------------------------------------------\u001b[0m",
      "\u001b[0;31mUnitConversionError\u001b[0m                       Traceback (most recent call last)",
      "File \u001b[0;32m/opt/anaconda3/lib/python3.12/site-packages/astropy/units/quantity_helper/helpers.py:77\u001b[0m, in \u001b[0;36mget_converters_and_unit\u001b[0;34m(f, unit1, unit2)\u001b[0m\n\u001b[1;32m     76\u001b[0m \u001b[38;5;28;01mtry\u001b[39;00m:\n\u001b[0;32m---> 77\u001b[0m     converters[changeable] \u001b[38;5;241m=\u001b[39m get_converter(unit2, unit1)\n\u001b[1;32m     78\u001b[0m \u001b[38;5;28;01mexcept\u001b[39;00m UnitsError:\n",
      "File \u001b[0;32m/opt/anaconda3/lib/python3.12/site-packages/astropy/units/quantity_helper/helpers.py:42\u001b[0m, in \u001b[0;36mget_converter\u001b[0;34m(from_unit, to_unit)\u001b[0m\n\u001b[1;32m     39\u001b[0m \u001b[38;5;250m\u001b[39m\u001b[38;5;124;03m\"\"\"Like Unit.get_converter, except returns None if no scaling is needed,\u001b[39;00m\n\u001b[1;32m     40\u001b[0m \u001b[38;5;124;03mi.e., if the inferred scale is unity.\u001b[39;00m\n\u001b[1;32m     41\u001b[0m \u001b[38;5;124;03m\"\"\"\u001b[39;00m\n\u001b[0;32m---> 42\u001b[0m converter \u001b[38;5;241m=\u001b[39m from_unit\u001b[38;5;241m.\u001b[39mget_converter(to_unit)\n\u001b[1;32m     43\u001b[0m \u001b[38;5;28;01mreturn\u001b[39;00m \u001b[38;5;28;01mNone\u001b[39;00m \u001b[38;5;28;01mif\u001b[39;00m converter \u001b[38;5;129;01mis\u001b[39;00m unit_scale_converter \u001b[38;5;28;01melse\u001b[39;00m converter\n",
      "File \u001b[0;32m/opt/anaconda3/lib/python3.12/site-packages/astropy/units/core.py:1156\u001b[0m, in \u001b[0;36mUnitBase.get_converter\u001b[0;34m(self, other, equivalencies)\u001b[0m\n\u001b[1;32m   1154\u001b[0m                 \u001b[38;5;28;01mreturn\u001b[39;00m \u001b[38;5;28;01mlambda\u001b[39;00m v: b(converter(v))\n\u001b[0;32m-> 1156\u001b[0m \u001b[38;5;28;01mraise\u001b[39;00m exc\n",
      "File \u001b[0;32m/opt/anaconda3/lib/python3.12/site-packages/astropy/units/core.py:1139\u001b[0m, in \u001b[0;36mUnitBase.get_converter\u001b[0;34m(self, other, equivalencies)\u001b[0m\n\u001b[1;32m   1138\u001b[0m \u001b[38;5;28;01mtry\u001b[39;00m:\n\u001b[0;32m-> 1139\u001b[0m     \u001b[38;5;28;01mreturn\u001b[39;00m \u001b[38;5;28mself\u001b[39m\u001b[38;5;241m.\u001b[39m_apply_equivalencies(\n\u001b[1;32m   1140\u001b[0m         \u001b[38;5;28mself\u001b[39m, other, \u001b[38;5;28mself\u001b[39m\u001b[38;5;241m.\u001b[39m_normalize_equivalencies(equivalencies)\n\u001b[1;32m   1141\u001b[0m     )\n\u001b[1;32m   1142\u001b[0m \u001b[38;5;28;01mexcept\u001b[39;00m UnitsError \u001b[38;5;28;01mas\u001b[39;00m exc:\n\u001b[1;32m   1143\u001b[0m     \u001b[38;5;66;03m# Last hope: maybe other knows how to do it?\u001b[39;00m\n\u001b[1;32m   1144\u001b[0m     \u001b[38;5;66;03m# We assume the equivalencies have the unit itself as first item.\u001b[39;00m\n\u001b[1;32m   1145\u001b[0m     \u001b[38;5;66;03m# TODO: maybe better for other to have a `_back_converter` method?\u001b[39;00m\n",
      "File \u001b[0;32m/opt/anaconda3/lib/python3.12/site-packages/astropy/units/core.py:1090\u001b[0m, in \u001b[0;36mUnitBase._apply_equivalencies\u001b[0;34m(self, unit, other, equivalencies)\u001b[0m\n\u001b[1;32m   1088\u001b[0m other_str \u001b[38;5;241m=\u001b[39m get_err_str(other)\n\u001b[0;32m-> 1090\u001b[0m \u001b[38;5;28;01mraise\u001b[39;00m UnitConversionError(\u001b[38;5;124mf\u001b[39m\u001b[38;5;124m\"\u001b[39m\u001b[38;5;132;01m{\u001b[39;00munit_str\u001b[38;5;132;01m}\u001b[39;00m\u001b[38;5;124m and \u001b[39m\u001b[38;5;132;01m{\u001b[39;00mother_str\u001b[38;5;132;01m}\u001b[39;00m\u001b[38;5;124m are not convertible\u001b[39m\u001b[38;5;124m\"\u001b[39m)\n",
      "\u001b[0;31mUnitConversionError\u001b[0m: 'solMass' (mass) and '1 / solMass' are not convertible",
      "\nDuring handling of the above exception, another exception occurred:\n",
      "\u001b[0;31mUnitConversionError\u001b[0m                       Traceback (most recent call last)",
      "Cell \u001b[0;32mIn[192], line 18\u001b[0m\n\u001b[1;32m     16\u001b[0m MWtot \u001b[38;5;241m=\u001b[39m MW_halo \u001b[38;5;241m+\u001b[39m MW_disk \u001b[38;5;241m+\u001b[39m MW_bulge \n\u001b[1;32m     17\u001b[0m M31tot \u001b[38;5;241m=\u001b[39m M31_halo \u001b[38;5;241m+\u001b[39m M31_disk \u001b[38;5;241m+\u001b[39m M31_bulge \n\u001b[0;32m---> 18\u001b[0m M33tot \u001b[38;5;241m=\u001b[39m M33_halo \u001b[38;5;241m+\u001b[39m M33_disk \u001b[38;5;241m+\u001b[39m M33_bulge \n\u001b[1;32m     20\u001b[0m \u001b[38;5;66;03m#computing the total mass of the Local Group (MW + M31 + M33)\u001b[39;00m\n\u001b[1;32m     21\u001b[0m MLocal \u001b[38;5;241m=\u001b[39m MWtot \u001b[38;5;241m+\u001b[39m M31tot \u001b[38;5;241m+\u001b[39m M33tot \n",
      "File \u001b[0;32m/opt/anaconda3/lib/python3.12/site-packages/astropy/units/quantity.py:696\u001b[0m, in \u001b[0;36mQuantity.__array_ufunc__\u001b[0;34m(self, function, method, *inputs, **kwargs)\u001b[0m\n\u001b[1;32m    694\u001b[0m     \u001b[38;5;28;01mreturn\u001b[39;00m \u001b[38;5;28mNotImplemented\u001b[39m\n\u001b[1;32m    695\u001b[0m \u001b[38;5;28;01melse\u001b[39;00m:\n\u001b[0;32m--> 696\u001b[0m     \u001b[38;5;28;01mraise\u001b[39;00m e\n",
      "File \u001b[0;32m/opt/anaconda3/lib/python3.12/site-packages/astropy/units/quantity.py:641\u001b[0m, in \u001b[0;36mQuantity.__array_ufunc__\u001b[0;34m(self, function, method, *inputs, **kwargs)\u001b[0m\n\u001b[1;32m    636\u001b[0m \u001b[38;5;66;03m# Determine required conversion functions -- to bring the unit of the\u001b[39;00m\n\u001b[1;32m    637\u001b[0m \u001b[38;5;66;03m# input to that expected (e.g., radian for np.sin), or to get\u001b[39;00m\n\u001b[1;32m    638\u001b[0m \u001b[38;5;66;03m# consistent units between two inputs (e.g., in np.add) --\u001b[39;00m\n\u001b[1;32m    639\u001b[0m \u001b[38;5;66;03m# and the unit of the result (or tuple of units for nout > 1).\u001b[39;00m\n\u001b[1;32m    640\u001b[0m \u001b[38;5;28;01mtry\u001b[39;00m:\n\u001b[0;32m--> 641\u001b[0m     converters, unit \u001b[38;5;241m=\u001b[39m converters_and_unit(function, method, \u001b[38;5;241m*\u001b[39minputs)\n\u001b[1;32m    643\u001b[0m     out \u001b[38;5;241m=\u001b[39m kwargs\u001b[38;5;241m.\u001b[39mget(\u001b[38;5;124m\"\u001b[39m\u001b[38;5;124mout\u001b[39m\u001b[38;5;124m\"\u001b[39m, \u001b[38;5;28;01mNone\u001b[39;00m)\n\u001b[1;32m    644\u001b[0m     \u001b[38;5;66;03m# Avoid loop back by turning any Quantity output into array views.\u001b[39;00m\n",
      "File \u001b[0;32m/opt/anaconda3/lib/python3.12/site-packages/astropy/units/quantity_helper/converters.py:181\u001b[0m, in \u001b[0;36mconverters_and_unit\u001b[0;34m(function, method, *args)\u001b[0m\n\u001b[1;32m    178\u001b[0m units \u001b[38;5;241m=\u001b[39m [\u001b[38;5;28mgetattr\u001b[39m(arg, \u001b[38;5;124m\"\u001b[39m\u001b[38;5;124munit\u001b[39m\u001b[38;5;124m\"\u001b[39m, \u001b[38;5;28;01mNone\u001b[39;00m) \u001b[38;5;28;01mfor\u001b[39;00m arg \u001b[38;5;129;01min\u001b[39;00m args]\n\u001b[1;32m    180\u001b[0m \u001b[38;5;66;03m# Determine possible conversion functions, and the result unit.\u001b[39;00m\n\u001b[0;32m--> 181\u001b[0m converters, result_unit \u001b[38;5;241m=\u001b[39m ufunc_helper(function, \u001b[38;5;241m*\u001b[39munits)\n\u001b[1;32m    183\u001b[0m \u001b[38;5;28;01mif\u001b[39;00m \u001b[38;5;28many\u001b[39m(converter \u001b[38;5;129;01mis\u001b[39;00m \u001b[38;5;28;01mFalse\u001b[39;00m \u001b[38;5;28;01mfor\u001b[39;00m converter \u001b[38;5;129;01min\u001b[39;00m converters):\n\u001b[1;32m    184\u001b[0m     \u001b[38;5;66;03m# for multi-argument ufuncs with a quantity and a non-quantity,\u001b[39;00m\n\u001b[1;32m    185\u001b[0m     \u001b[38;5;66;03m# the quantity normally needs to be dimensionless, *except*\u001b[39;00m\n\u001b[0;32m   (...)\u001b[0m\n\u001b[1;32m    188\u001b[0m     \u001b[38;5;66;03m# can just have the unit of the quantity\u001b[39;00m\n\u001b[1;32m    189\u001b[0m     \u001b[38;5;66;03m# (this allows, e.g., `q > 0.` independent of unit)\u001b[39;00m\n\u001b[1;32m    190\u001b[0m     \u001b[38;5;28;01mtry\u001b[39;00m:\n\u001b[1;32m    191\u001b[0m         \u001b[38;5;66;03m# Don't fold this loop in the test above: this rare case\u001b[39;00m\n\u001b[1;32m    192\u001b[0m         \u001b[38;5;66;03m# should not make the common case slower.\u001b[39;00m\n",
      "File \u001b[0;32m/opt/anaconda3/lib/python3.12/site-packages/astropy/units/quantity_helper/helpers.py:79\u001b[0m, in \u001b[0;36mget_converters_and_unit\u001b[0;34m(f, unit1, unit2)\u001b[0m\n\u001b[1;32m     77\u001b[0m     converters[changeable] \u001b[38;5;241m=\u001b[39m get_converter(unit2, unit1)\n\u001b[1;32m     78\u001b[0m \u001b[38;5;28;01mexcept\u001b[39;00m UnitsError:\n\u001b[0;32m---> 79\u001b[0m     \u001b[38;5;28;01mraise\u001b[39;00m UnitConversionError(\n\u001b[1;32m     80\u001b[0m         \u001b[38;5;124mf\u001b[39m\u001b[38;5;124m\"\u001b[39m\u001b[38;5;124mCan only apply \u001b[39m\u001b[38;5;124m'\u001b[39m\u001b[38;5;132;01m{\u001b[39;00mf\u001b[38;5;241m.\u001b[39m\u001b[38;5;18m__name__\u001b[39m\u001b[38;5;132;01m}\u001b[39;00m\u001b[38;5;124m'\u001b[39m\u001b[38;5;124m function to quantities \u001b[39m\u001b[38;5;124m\"\u001b[39m\n\u001b[1;32m     81\u001b[0m         \u001b[38;5;124m\"\u001b[39m\u001b[38;5;124mwith compatible dimensions\u001b[39m\u001b[38;5;124m\"\u001b[39m\n\u001b[1;32m     82\u001b[0m     )\n\u001b[1;32m     84\u001b[0m \u001b[38;5;28;01mreturn\u001b[39;00m converters, unit1\n",
      "\u001b[0;31mUnitConversionError\u001b[0m: Can only apply 'add' function to quantities with compatible dimensions"
     ]
    }
   ],
   "source": [
    "#calling ComponentMass() for every particle type in the Milky Way (1 = halo, 2 = disk, 3 = bulge)\n",
    "MW_halo = ComponentMass(\"MW_000.txt\",1)\n",
    "MW_disk = ComponentMass(\"MW_000.txt\",2)\n",
    "MW_bulge = ComponentMass(\"MW_000.txt\",3)\n",
    "\n",
    "#calling ComponentMass() for every particle type in M31\n",
    "M31_halo = ComponentMass(\"M31_000.txt\",1)\n",
    "M31_disk = ComponentMass(\"M31_000.txt\",2)\n",
    "M31_bulge = ComponentMass(\"M31_000.txt\",3)\n",
    "\n",
    "#calling ComponentMass() for every particle type in M33. M33 does not have a bulge -- only a disk and a halo\n",
    "M33_halo = ComponentMass(\"M33_000.txt\",1)\n",
    "M33_disk = ComponentMass(\"M33_000.txt\",2)\n",
    "\n",
    "#totaling the component masses for each galaxy to get the total mass of each galaxy \n",
    "MWtot = MW_halo + MW_disk + MW_bulge \n",
    "M31tot = M31_halo + M31_disk + M31_bulge \n",
    "M33tot = M33_halo + M33_disk + M33_bulge \n",
    "\n",
    "#computing the total mass of the Local Group (MW + M31 + M33)\n",
    "MLocal = MWtot + M31tot + M33tot \n",
    "\n",
    "#calculating f_bar, the baryon fraction for each galaxy and the Local Group. f_bar = stellar mass/total mass. \n",
    "#f_bar = (bulge + disk)/total mass. \n",
    "MWf_bar = (MW_bulge + MW_disk)/MWtot\n",
    "M31f_bar = (M31_bulge + M31_disk)/M31tot\n",
    "M33f_bar = M33_disk/M33tot #M33 does not have a bulge, so only the disk makes up the stellar mass\n",
    "Localf_bar = (MW_bulge + MW_disk + M31_bulge + M31_disk + M33_disk)/MLocal\n",
    "\n",
    "#rounding f_bar values to 3 significant figures\n",
    "MWf_bar = np.round(MWf_bar,3)\n",
    "M31f_bar = np.round(M31f_bar,3)\n",
    "M33f_bar = np.round(M33f_bar,3)\n",
    "Localf_bar = np.round(Localf_bar,3)"
   ]
  },
  {
   "cell_type": "code",
   "execution_count": null,
   "id": "4fbda84d-0f41-4c32-ae5c-5bda3fbf1f3a",
   "metadata": {},
   "outputs": [],
   "source": [
    "#creating the table using the generated quantities for each galaxy and the Local Group\n",
    "#\"{:.2e}\".format() formats the number as an exponent/in scientific notation. \n",
    "\n",
    "data = {'GALAXY NAME':[\"MW\", \"M31\", \"M33\", \"Local Group\"], \n",
    "        \"HALO MASS\":[\"{:.2e}\".format(MW_halo), \"{:.2e}\".format(M31_halo), \"{:.2e}\".format(M33_halo), \"-\"],\n",
    "        \"DISK MASS\":[\"{:.2e}\".format(MW_disk), \"{:.2e}\".format(M31_disk), \"{:.2e}\".format(M33_disk),\"-\"],\n",
    "        \"BULGE MASS\":[\"{:.2e}\".format(MW_bulge), \"{:.2e}\".format(M31_bulge),\"-\",\"-\"],\n",
    "        \"TOTAL MASS\":[\"{:.2e}\".format(MWtot), \"{:.2e}\".format(M31tot), \"{:.2e}\".format(M33tot),\"{:.2e}\".format(MLocal)],\n",
    "        \"F_BAR\":[\"{:.2e}\".format(MWf_bar), \"{:.2e}\".format(M31f_bar), \"{:.2e}\".format(M33f_bar),\"{:.2e}\".format(Localf_bar)]}\n",
    "        #data is a dictionary, the column name is the key. \n",
    "\n",
    "mass_table = pd.DataFrame(data) #setting the data in the table using \n",
    "print(mass_table) #testing "
   ]
  },
  {
   "cell_type": "code",
   "execution_count": 31,
   "id": "7c3047b3-6d77-4f18-98f3-9ddd6f1f9e91",
   "metadata": {},
   "outputs": [],
   "source": [
    "mass_table.to_html('HW3table.html') #export table to html, where it can be saved as PDF "
   ]
  },
  {
   "cell_type": "code",
   "execution_count": null,
   "id": "bcef01cd-bfc0-49db-9c85-7f368778a0fc",
   "metadata": {},
   "outputs": [],
   "source": []
  }
 ],
 "metadata": {
  "kernelspec": {
   "display_name": "Python 3 (ipykernel)",
   "language": "python",
   "name": "python3"
  },
  "language_info": {
   "codemirror_mode": {
    "name": "ipython",
    "version": 3
   },
   "file_extension": ".py",
   "mimetype": "text/x-python",
   "name": "python",
   "nbconvert_exporter": "python",
   "pygments_lexer": "ipython3",
   "version": "3.12.4"
  }
 },
 "nbformat": 4,
 "nbformat_minor": 5
}
