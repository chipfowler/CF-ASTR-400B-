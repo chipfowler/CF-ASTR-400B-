{
 "cells": [
  {
   "cell_type": "code",
   "execution_count": 147,
   "id": "1a5ef508-cbc2-47f3-944a-a0879ea01bd5",
   "metadata": {},
   "outputs": [],
   "source": [
    "from ReadFile import Read\n",
    "import numpy as np\n",
    "import astropy.units as u\n",
    "import pandas as pd\n",
    "\n",
    "def ComponentMass(filename, part_type):\n",
    "    \"\"\"\n",
    "    ComponentMass is a function that returns the total mass of a user-specified galaxy component (disk, bulge, etc.)\n",
    "    \n",
    "    Inputs: filename (string) is the name of the file we want to read data from\n",
    "            part_type (integer) is the type of galaxy component we want to return the mass of\n",
    "            \n",
    "    Outputs: M (astropy units Msun^12) the mass of the galaxy component\n",
    "    \"\"\"\n",
    "    time,tot_particles,data = Read(filename) #calling Read(), a function we made previously to read the file. the snapnumber, \n",
    "    #total number of particles, and the rest of the data array in the file are the outputs of Read().\n",
    "    \n",
    "    index = np.where(data['type'] == part_type) #creating index to separate the particles of the user-specified type out from the rest\n",
    "    \n",
    "    m = data['m'][index]*u.M_sun*10**(10) #getting the mass of each particle in the specified type, setting its units (10**10 Msun) \n",
    "    #and storing as an array. \n",
    "\n",
    "    mtot = np.sum(m) #summing over all the masses in the mass array to get the total mass (mtot)\n",
    "\n",
    "    mtot_round = np.round(mtot,3) #rounding the total mass to 3 decimal places\n",
    "\n",
    "    return mtot_round #returning the rounded total mass\n"
   ]
  },
  {
   "cell_type": "code",
   "execution_count": 150,
   "id": "dde1948c-d38b-4283-9862-6c328cc093f3",
   "metadata": {},
   "outputs": [],
   "source": [
    "#calling ComponentMass() for every particle type in the Milky Way (1 = halo, 2 = disk, 3 = bulge)\n",
    "MW_halo = ComponentMass(\"MW_000.txt\",1)\n",
    "MW_disk = ComponentMass(\"MW_000.txt\",2)\n",
    "MW_bulge = ComponentMass(\"MW_000.txt\",3)\n",
    "\n",
    "#calling ComponentMass() for every particle type in M31\n",
    "M31_halo = ComponentMass(\"M31_000.txt\",1)\n",
    "M31_disk = ComponentMass(\"M31_000.txt\",2)\n",
    "M31_bulge = ComponentMass(\"M31_000.txt\",3)\n",
    "\n",
    "#calling ComponentMass() for every particle type in M33. M33 does not have a bulge -- only a disk and a halo\n",
    "M33_halo = ComponentMass(\"M33_000.txt\",1)\n",
    "M33_disk = ComponentMass(\"M33_000.txt\",2)\n",
    "\n",
    "#totaling the component masses for each galaxy to get the total mass of each galaxy \n",
    "MWtot = MW_halo + MW_disk + MW_bulge \n",
    "M31tot = M31_halo + M31_disk + M31_bulge \n",
    "M33tot = M33_halo + M33_disk + M33_bulge \n",
    "\n",
    "#computing the total mass of the Local Group (MW + M31 + M33)\n",
    "MLocal = MWtot + M31tot + M33tot \n",
    "\n",
    "#calculating f_bar, the baryon fraction for each galaxy and the Local Group. f_bar = stellar mass/total mass. \n",
    "#f_bar = (bulge + disk)/total mass. \n",
    "MWf_bar = (MW_bulge + MW_disk)/MWtot\n",
    "M31f_bar = (M31_bulge + M31_disk)/M31tot\n",
    "M33f_bar = M33_disk/M33tot #M33 does not have a bulge, so only the disk makes up the stellar mass\n",
    "Localf_bar = (MW_bulge + MW_disk + M31_bulge + M31_disk + M33_disk)/MLocal\n",
    "\n",
    "#rounding f_bar values to 3 significant figures\n",
    "MWf_bar = np.round(MWf_bar,3)\n",
    "M31f_bar = np.round(M31f_bar,3)\n",
    "M33f_bar = np.round(M33f_bar,3)\n",
    "Localf_bar = np.round(Localf_bar,3)"
   ]
  },
  {
   "cell_type": "code",
   "execution_count": 151,
   "id": "4fbda84d-0f41-4c32-ae5c-5bda3fbf1f3a",
   "metadata": {},
   "outputs": [
    {
     "name": "stdout",
     "output_type": "stream",
     "text": [
      "   GALAXY NAME         HALO MASS         DISK MASS        BULGE MASS  \\\n",
      "0           MW  1.97e+12 solMass  7.50e+10 solMass  1.00e+10 solMass   \n",
      "1          M31  1.92e+12 solMass  1.20e+11 solMass  1.90e+10 solMass   \n",
      "2          M33  1.87e+11 solMass  9.30e+09 solMass                 -   \n",
      "3  Local Group                 -                 -                 -   \n",
      "\n",
      "         TOTAL MASS     F_BAR  \n",
      "0  2.06e+12 solMass  4.10e-02  \n",
      "1  2.06e+12 solMass  6.80e-02  \n",
      "2  1.96e+11 solMass  4.70e-02  \n",
      "3  4.32e+12 solMass  5.40e-02  \n"
     ]
    }
   ],
   "source": [
    "#creating the table using the generated quantities for each galaxy and the Local Group\n",
    "#\"{:.2e}\".format() formats the number as an exponent/in scientific notation. \n",
    "\n",
    "data = {'GALAXY NAME':[\"MW\", \"M31\", \"M33\", \"Local Group\"], \n",
    "        \"HALO MASS\":[\"{:.2e}\".format(MW_halo), \"{:.2e}\".format(M31_halo), \"{:.2e}\".format(M33_halo), \"-\"],\n",
    "        \"DISK MASS\":[\"{:.2e}\".format(MW_disk), \"{:.2e}\".format(M31_disk), \"{:.2e}\".format(M33_disk),\"-\"],\n",
    "        \"BULGE MASS\":[\"{:.2e}\".format(MW_bulge), \"{:.2e}\".format(M31_bulge),\"-\",\"-\"],\n",
    "        \"TOTAL MASS\":[\"{:.2e}\".format(MWtot), \"{:.2e}\".format(M31tot), \"{:.2e}\".format(M33tot),\"{:.2e}\".format(MLocal)],\n",
    "        \"F_BAR\":[\"{:.2e}\".format(MWf_bar), \"{:.2e}\".format(M31f_bar), \"{:.2e}\".format(M33f_bar),\"{:.2e}\".format(Localf_bar)]}\n",
    "        #data is a dictionary, the column name is the key. \n",
    "\n",
    "mass_table = pd.DataFrame(data) #setting the data in the table using \n",
    "print(mass_table) #testing "
   ]
  },
  {
   "cell_type": "code",
   "execution_count": 31,
   "id": "7c3047b3-6d77-4f18-98f3-9ddd6f1f9e91",
   "metadata": {},
   "outputs": [],
   "source": [
    "mass_table.to_html('HW3table.html') #export table to html, where it can be saved as PDF "
   ]
  },
  {
   "cell_type": "code",
   "execution_count": null,
   "id": "bcef01cd-bfc0-49db-9c85-7f368778a0fc",
   "metadata": {},
   "outputs": [],
   "source": []
  }
 ],
 "metadata": {
  "kernelspec": {
   "display_name": "Python 3 (ipykernel)",
   "language": "python",
   "name": "python3"
  },
  "language_info": {
   "codemirror_mode": {
    "name": "ipython",
    "version": 3
   },
   "file_extension": ".py",
   "mimetype": "text/x-python",
   "name": "python",
   "nbconvert_exporter": "python",
   "pygments_lexer": "ipython3",
   "version": "3.12.4"
  }
 },
 "nbformat": 4,
 "nbformat_minor": 5
}
