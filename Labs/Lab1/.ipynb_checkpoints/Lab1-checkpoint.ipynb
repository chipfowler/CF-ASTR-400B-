{
 "cells": [
  {
   "cell_type": "markdown",
   "metadata": {},
   "source": [
    "# In Class Lab 1\n",
    "\n",
    "### Due by midnight, thursday in your github repository 'Labs/Lab1' folder\n"
   ]
  },
  {
   "cell_type": "code",
   "execution_count": 5,
   "metadata": {},
   "outputs": [],
   "source": [
    "# Import Modules \n",
    "import numpy as np # import numpy\n",
    "import astropy.units as u # import astropy units\n",
    "from astropy import constants as const # import astropy constants"
   ]
  },
  {
   "cell_type": "markdown",
   "metadata": {},
   "source": [
    "### Astropy Units:  https://docs.astropy.org/en/stable/units/index.html"
   ]
  },
  {
   "cell_type": "markdown",
   "metadata": {},
   "source": [
    "\n",
    "## Part A:  The Local Standard of Rest\n",
    "Proper motion of Sgr A* from Reid & Brunthaler 2004\n",
    "$\\mu = 6.379$ mas/yr \n",
    "\n",
    "Peculiar motion of the sun, $v_\\odot$ = 12.24 km/s  (Schonrich 2010)\n",
    "\n",
    "\n",
    "$v_{tan} = 4.74 \\frac{\\mu}{\\rm mas/yr} \\frac{R_o}{\\rm kpc} = V_{LSR} + v_\\odot$\n",
    "\n",
    "\n",
    "### a)\n",
    "\n",
    "Create a function called VLSR to compute the local standard of res (V$_{LSR}$).\n",
    "\n",
    "The function should take as input: the solar radius (R$_o$), the proper motion (mu)\n",
    "and the peculiar motion of the sun in the $v_\\odot$ direction.\n",
    "\n",
    "Compute V$_{LSR}$ using three different values R$_o$: \n",
    "1. Water Maser Distance for the Sun :  R$_o$ = 8.34 kpc   (Reid 2014 ApJ 783) \n",
    "2. GRAVITY Collaboration Distance for the Sun:  R$_o$ = 8.178 kpc   (Abuter+2019 A&A 625)\n",
    "3. Value for Distance to Sun listed in Sparke & Gallagher : R$_o$ = 7.9 kpc \n"
   ]
  },
  {
   "cell_type": "code",
   "execution_count": 7,
   "metadata": {},
   "outputs": [],
   "source": [
    "# 4.74*mu*Ro = VLSR +vsun\n",
    "\n",
    "def VSLR(Ro, mu = 6.379, vsun = 12.24*u.km/u.s): \n",
    "    \"\"\" This  function will compute the velocity \n",
    "    at the local standard of rest. \n",
    "        VLSR = 4.74*mu*Ro - vsun\n",
    "        \n",
    "    Inputs: Ro (astropy units kpc) is the distance from the Sun to the Galactic Center\n",
    "            mu is the proper motion of Sag A* (mas/yr)\n",
    "                default is from Reid & Brunthaler 2004\n",
    "            vsun (astropy units km/s) is the peculiar motion of the Sun in the v direction (Schonrich+2010)\n",
    "            \n",
    "    Outputs: VSLR (astropy units km/s) is the local standard of rest\n",
    "    \"\"\"\n",
    "    VLSR = 4.74*mu*(Ro/u.kpc)*u.km/u.s - vsun #taking away the units of Ro, and giving it the proper units so that VLSR will be in km/s\n",
    "    return VLSR"
   ]
  },
  {
   "cell_type": "code",
   "execution_count": 11,
   "metadata": {},
   "outputs": [],
   "source": [
    "#Different values of the distance to the Galactic Center\n",
    "RoReid = 8.34*u.kpc #Reid + 2014\n",
    "RoAbuter = 8.178*u.kpc #Abuter + 2019\n",
    "RoSparke = 7.9*u.kpc #Sparke & Gallagher Text"
   ]
  },
  {
   "cell_type": "code",
   "execution_count": 37,
   "metadata": {},
   "outputs": [
    {
     "name": "stdout",
     "output_type": "stream",
     "text": [
      "239.932 km / s\n"
     ]
    }
   ],
   "source": [
    "#compute VLSR for each different Ro & print to screen\n",
    "\n",
    "VLSR_Reid = VSLR(RoReid)\n",
    "print(np.round(VLSR_Reid,3))"
   ]
  },
  {
   "cell_type": "code",
   "execution_count": 35,
   "metadata": {},
   "outputs": [
    {
     "name": "stdout",
     "output_type": "stream",
     "text": [
      "235.034 km / s\n"
     ]
    }
   ],
   "source": [
    "#compute VLSR using Gravity Collab\n",
    "\n",
    "VLSR_Abuter = VSLR(RoAbuter)\n",
    "print(np.round(VLSR_Abuter,3))"
   ]
  },
  {
   "cell_type": "code",
   "execution_count": 39,
   "metadata": {},
   "outputs": [
    {
     "name": "stdout",
     "output_type": "stream",
     "text": [
      "226.628 km / s\n"
     ]
    }
   ],
   "source": [
    "#compute VLSR from Sparke & Gallagher\n",
    "\n",
    "VLSR_Sparke = VSLR(RoSparke)\n",
    "print(np.around(VLSR_Sparke,3))"
   ]
  },
  {
   "cell_type": "markdown",
   "metadata": {},
   "source": [
    "### b)\n",
    "\n",
    "compute the orbital period of the sun in Gyr using R$_o$ from the GRAVITY Collaboration (assume circular orbit)\n",
    "\n",
    "Note that 1 km/s $\\sim$ 1kpc/Gyr"
   ]
  },
  {
   "cell_type": "code",
   "execution_count": 41,
   "metadata": {},
   "outputs": [],
   "source": [
    "#orbital period = 2piR/V\n",
    "\n",
    "def TorbSun(Ro, Vc):\n",
    "    \"\"\"\n",
    "    This function that computes the orbital period of the Sun:\n",
    "    T = 2 pi R / V\n",
    "\n",
    "    Inputs: Ro (float, astropy units kpc) distance to the Galactic Center from the Sun\n",
    "            Vc (float, astropy units km/s) velocity of the Sun in the 'v' direction \n",
    "\n",
    "    Outputs: T (astropy quantity, units in Gyr) the orbital period of the Sun \n",
    "    \"\"\"\n",
    "\n",
    "    VkpcGyr = Vc.to(u.kpc/u.Gyr) #converting V to kpc/Gyr\n",
    "    T = 2*np.pi*Ro/VkpcGyr #compute the orbital period\n",
    "\n",
    "    return T "
   ]
  },
  {
   "cell_type": "code",
   "execution_count": 47,
   "metadata": {},
   "outputs": [],
   "source": [
    "VsunPec = 12.24*u.km/u.s #peculiar motion of the sun"
   ]
  },
  {
   "cell_type": "code",
   "execution_count": 49,
   "metadata": {},
   "outputs": [],
   "source": [
    "Vsun = VLSR_Abuter + VsunPec #Vsun = total motion of the Sun in the 'v' direction"
   ]
  },
  {
   "cell_type": "code",
   "execution_count": 55,
   "metadata": {},
   "outputs": [
    {
     "name": "stdout",
     "output_type": "stream",
     "text": [
      "0.20318680562272234 Gyr\n",
      "0.203 Gyr\n"
     ]
    }
   ],
   "source": [
    "#Orbital period of the Sun \n",
    "\n",
    "T_Abuter = TorbSun(RoAbuter, Vsun)\n",
    "print(T_Abuter)\n",
    "print(np.around(T_Abuter,3))"
   ]
  },
  {
   "cell_type": "markdown",
   "metadata": {},
   "source": [
    "### c)\n",
    "\n",
    "Compute the number of rotations about the GC over the age of the universe (13.8 Gyr)"
   ]
  },
  {
   "cell_type": "code",
   "execution_count": 65,
   "metadata": {},
   "outputs": [
    {
     "name": "stdout",
     "output_type": "stream",
     "text": [
      "67.918\n"
     ]
    }
   ],
   "source": [
    "AgeUniverse = 13.8*u.Gyr\n",
    "\n",
    "print(np.round(AgeUniverse/T_Abuter,3)) #Age of the Unverse/T_Abuter = # of times the Sun has orbited around the GC"
   ]
  },
  {
   "cell_type": "markdown",
   "metadata": {},
   "source": [
    "## Part B  Dark Matter Density Profiles\n",
    "\n",
    "### a)\n",
    "Try out Fitting Rotation Curves \n",
    "[here](http://wittman.physics.ucdavis.edu/Animations/RotationCurve/GalacticRotation.html)\n",
    "\n",
    "\n",
    "### b)\n",
    "\n",
    "\n",
    "In the Isothermal Sphere model, what is the mass enclosed within the solar radius (R$_o$) in units of M$_\\odot$? \n",
    "\n",
    "Recall that for the Isothermal sphere :\n",
    "$\\rho(r) = \\frac{V_{LSR}^2}{4\\pi G r^2}$\n",
    "\n",
    "Where $G$ = 4.4985e-6 kpc$^3$/Gyr$^2$/M$_\\odot$, r is in kpc and $V_{LSR}$ is in km/s\n",
    "\n",
    "What about at 260 kpc (in units of  M$_\\odot$) ? "
   ]
  },
  {
   "cell_type": "code",
   "execution_count": 73,
   "metadata": {},
   "outputs": [
    {
     "name": "stdout",
     "output_type": "stream",
     "text": [
      "  Name   = Gravitational constant\n",
      "  Value  = 6.6743e-11\n",
      "  Uncertainty  = 1.5e-15\n",
      "  Unit  = m3 / (kg s2)\n",
      "  Reference = CODATA 2018\n"
     ]
    }
   ],
   "source": [
    "print(const.G)"
   ]
  },
  {
   "cell_type": "code",
   "execution_count": 75,
   "metadata": {},
   "outputs": [
    {
     "name": "stdout",
     "output_type": "stream",
     "text": [
      "4.498502151469554e-06 kpc3 / (solMass Gyr2)\n"
     ]
    }
   ],
   "source": [
    "grav = const.G.to(u.kpc**3/u.Gyr**2/u.Msun) #converting grav to kpc/Gyr/Msun\n",
    "print(grav)"
   ]
  },
  {
   "cell_type": "code",
   "execution_count": 91,
   "metadata": {},
   "outputs": [],
   "source": [
    "#density profile rho = VLSR**2/4*pi*G*R**2\n",
    "#Mass (r) = integrate rho dV\n",
    "#           integrate rho*4*pi*r**2/dr\n",
    "#           integrate VLSR**2 /(4*pi*r**2*G) * 4*pi*r**2 dr\n",
    "#           integrate VLSR**2 / G dr\n",
    "#           VLSR**2/G * r\n",
    "\n",
    "def massISO(r,VLSR):\n",
    "    \"\"\"\n",
    "    This function will compute the dark matter mass enclosed\n",
    "    within a given distance, r, assuming an Isothermal Sphere Model\n",
    "        M(r) = VLSR**2/G * r\n",
    "\n",
    "    Inputs: r (astropy units of kpc) distance from the Galactic Center\n",
    "            VLSR (astropy units of km/s) velocity at the Local Standard of Rest\n",
    "            \n",
    "    Outputs: m (astropy units of Msun) mass enclosed within r\n",
    "    \"\"\"\n",
    "\n",
    "    VLSRkpcGyr = VLSR.to(u.kpc/u.Gyr) #converting to kpc/Gyr\n",
    "    \n",
    "    M = VLSRkpcGyr**2/grav*r #Isothermal Sphere Mass Profile\n",
    "\n",
    "    return M "
   ]
  },
  {
   "cell_type": "code",
   "execution_count": 95,
   "metadata": {},
   "outputs": [
    {
     "name": "stdout",
     "output_type": "stream",
     "text": [
      "105038025820.79904 solMass\n",
      "1.05e+11 solMass\n"
     ]
    }
   ],
   "source": [
    "#Compute the mass enclosed within Ro (Gravity Collab)\n",
    "\n",
    "mISOSolar = massISO(RoAbuter,VLSR_Abuter)\n",
    "print(mISOSolar)\n",
    "print(f\"{mISOSolar:.2e}\")"
   ]
  },
  {
   "cell_type": "code",
   "execution_count": 97,
   "metadata": {},
   "outputs": [
    {
     "name": "stdout",
     "output_type": "stream",
     "text": [
      "3.34e+12 solMass\n"
     ]
    }
   ],
   "source": [
    "#compute the mass enclosed within 260 kpc\n",
    "mISO260 = massISO(260*u.kpc,VLSR_Abuter)\n",
    "print(f\"{mISO260:.2e}\")"
   ]
  },
  {
   "cell_type": "markdown",
   "metadata": {},
   "source": [
    "## c) \n",
    "\n",
    "The Leo I satellite is one of the fastest moving satellite galaxies we know. \n",
    "\n",
    "\n",
    "It is moving with 3D velocity of magnitude: Vtot = 196 km/s at a distance of 260 kpc (Sohn 2013 ApJ 768)\n",
    "\n",
    "If we assume that Leo I is moving at the escape speed:\n",
    "\n",
    "$v_{esc}^2 = 2|\\Phi| = 2 \\int G \\frac{\\rho(r)}{r}dV $ \n",
    "\n",
    "and assuming the Milky Way is well modeled by a Hernquist Sphere with a scale radius of $a$= 30 kpc, what is the minimum mass of the Milky Way (in units of M$_\\odot$) ?  \n",
    "\n",
    "How does this compare to estimates of the mass assuming the Isothermal Sphere model at 260 kpc (from your answer above)"
   ]
  },
  {
   "cell_type": "code",
   "execution_count": 101,
   "metadata": {},
   "outputs": [],
   "source": [
    "#Potential for a Hernquist Sphere\n",
    "# Phi = -G*M/(r+a)\n",
    "\n",
    "#Escape Speed becomes:\n",
    "#vesc**2 = 2*G*M/(r+a)\n",
    "\n",
    "#Rearrange for M\n",
    "#M = vesc**2/2/G*(r+a)\n",
    "\n",
    "def massHernVesc(vesc,r,a=30*u.kpc):\n",
    "    \"\"\"\n",
    "    This function determines the total dark matter mass needed given an escape speed, \n",
    "    assuming a Hernquist Profile:\n",
    "    M = vesc**2/2/G*(r+a)\n",
    "\n",
    "    Inputs: vesc (astropy units of km/s) the escape speed (or speed of satellite) \n",
    "            r (astropy units of kpc) distance from the Galactic Center\n",
    "            a (astropy units of kpc) the Hernquist Scale Length, default value = 30 kpc\n",
    "            \n",
    "    Outputs: M (astropy units of Msun) mass within r\n",
    "    \"\"\"\n",
    "\n",
    "    vesckpcGyr = vesc.to(u.kpc/u.Gyr) #convert vesc to kpc/Gyr\n",
    "\n",
    "    M = vesckpcGyr**2/2/grav*(r+a) #computing the mass\n",
    "\n",
    "    return M "
   ]
  },
  {
   "cell_type": "code",
   "execution_count": 103,
   "metadata": {},
   "outputs": [],
   "source": [
    "Vleo = 196*u.km/u.s #speed of Leo I (Sohn et al.)\n",
    "r = 260*u.kpc"
   ]
  },
  {
   "cell_type": "code",
   "execution_count": 107,
   "metadata": {},
   "outputs": [
    {
     "name": "stdout",
     "output_type": "stream",
     "text": [
      "1.30e+12 solMass\n"
     ]
    }
   ],
   "source": [
    "MLeoI = massHernVesc(Vleo,r)\n",
    "print(f\"{MLeoI:.2e}\")"
   ]
  }
 ],
 "metadata": {
  "kernelspec": {
   "display_name": "Python 3 (ipykernel)",
   "language": "python",
   "name": "python3"
  },
  "language_info": {
   "codemirror_mode": {
    "name": "ipython",
    "version": 3
   },
   "file_extension": ".py",
   "mimetype": "text/x-python",
   "name": "python",
   "nbconvert_exporter": "python",
   "pygments_lexer": "ipython3",
   "version": "3.12.4"
  }
 },
 "nbformat": 4,
 "nbformat_minor": 4
}
